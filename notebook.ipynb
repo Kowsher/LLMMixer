{
 "cells": [
  {
   "cell_type": "code",
   "execution_count": 1,
   "id": "833af78a-ec8e-478f-8421-4df816f7db0d",
   "metadata": {},
   "outputs": [
    {
     "name": "stdout",
     "output_type": "stream",
     "text": [
      "Args in experiment:\n",
      "Namespace(task_name='long_term_forecast', is_training=1, model_id='ETTh1_192_96', model='LLMMixer', data='ETTh1', root_path='/home/kowsher/tabllm', data_path='ETTh1.csv', features='M', target='OT', freq='h', checkpoints='./checkpoints/', seq_len=192, label_len=0, pred_len=96, seasonal_patterns='Monthly', inverse=False, llm_path='FacebookAI/roberta-base', tokenizer_path='FacebookAI/roberta-base', top_k=5, num_kernels=6, enc_in=7, dec_in=7, c_out=7, d_model=16, n_heads=4, e_layers=2, d_layers=1, d_ff=32, moving_avg=25, factor=1, distil=True, dropout=0.1, embed='timeF', activation='gelu', output_attention=False, channel_independence=1, decomp_method='moving_avg', use_norm=1, down_sampling_layers=3, down_sampling_window=2, down_sampling_method='avg', use_future_temporal_feature=0, mask_rate=0.25, anomaly_ratio=0.25, num_workers=10, itr=1, train_epochs=4, batch_size=32, patience=10, learning_rate=0.001, des='Exp', loss='MSE', lradj='TST', pct_start=0.2, use_amp=False, comment='none', use_gpu=True, gpu=0, use_multi_gpu=False, devices='0,1', p_hidden_dims=[128, 128], p_hidden_layers=2)\n",
      "Use GPU: cuda:0\n",
      "Some weights of RobertaModel were not initialized from the model checkpoint at FacebookAI/roberta-base and are newly initialized: ['roberta.pooler.dense.bias', 'roberta.pooler.dense.weight']\n",
      "You should probably TRAIN this model on a down-stream task to be able to use it for predictions and inference.\n",
      ">>>>>>>start training : long_term_forecast_ETTh1_192_96_none_LLMMixer_ETTh1_sl192_pl96_dm16_nh4_el2_dl1_df32_fc1_ebtimeF_dtTrue_Exp_0>>>>>>>>>>>>>>>>>>>>>>>>>>\n",
      "train 8353\n",
      "val 2785\n",
      "test 2785\n",
      "\titers: 100, epoch: 1 | loss: 0.6617627\n",
      "\tspeed: 0.9313s/iter; left time: 880.0807s\n",
      "\titers: 200, epoch: 1 | loss: 0.4537168\n",
      "\tspeed: 0.9229s/iter; left time: 779.8518s\n",
      "Epoch: 1 cost time: 242.3015856742859\n",
      "Epoch: 1, Steps: 261 | Train Loss: 0.4867862 Vali Loss: 0.7539271 Test Loss: 0.4413879\n",
      "Validation loss decreased (inf --> 0.753927).  Saving model ...\n",
      "Updating learning rate to 0.0009900222970503525\n",
      "\titers: 100, epoch: 2 | loss: 0.3294774\n",
      "\tspeed: 2.2920s/iter; left time: 1567.6942s\n",
      "\titers: 200, epoch: 2 | loss: 0.3683051\n",
      "\tspeed: 0.9330s/iter; left time: 544.8519s\n",
      "Epoch: 2 cost time: 240.96700310707092\n",
      "Epoch: 2, Steps: 261 | Train Loss: 0.3874621 Vali Loss: 0.7429756 Test Loss: 0.4347725\n",
      "Validation loss decreased (0.753927 --> 0.742976).  Saving model ...\n",
      "Updating learning rate to 0.000689604028532461\n",
      "\titers: 100, epoch: 3 | loss: 0.4312156\n",
      "\tspeed: 2.2957s/iter; left time: 971.0933s\n",
      "\titers: 200, epoch: 3 | loss: 0.4709197\n",
      "\tspeed: 0.8951s/iter; left time: 289.1235s\n",
      "Epoch: 3 cost time: 234.86994671821594\n",
      "Epoch: 3, Steps: 261 | Train Loss: 0.3785625 Vali Loss: 0.7219582 Test Loss: 0.4198441\n",
      "Validation loss decreased (0.742976 --> 0.721958).  Saving model ...\n",
      "Updating learning rate to 0.0002206561892951848\n",
      "\titers: 100, epoch: 4 | loss: 0.3732244\n",
      "\tspeed: 2.2701s/iter; left time: 367.7566s\n",
      "\titers: 200, epoch: 4 | loss: 0.3442519\n",
      "\tspeed: 0.9372s/iter; left time: 58.1079s\n",
      "Epoch: 4 cost time: 243.32687664031982\n",
      "Epoch: 4, Steps: 261 | Train Loss: 0.3740521 Vali Loss: 0.7241098 Test Loss: 0.4209154\n",
      "EarlyStopping counter: 1 out of 10\n",
      "Updating learning rate to 7.537174891247615e-09\n",
      ">>>>>>>testing : long_term_forecast_ETTh1_192_96_none_LLMMixer_ETTh1_sl192_pl96_dm16_nh4_el2_dl1_df32_fc1_ebtimeF_dtTrue_Exp_0<<<<<<<<<<<<<<<<<<<<<<<<<<<<<<<<<\n",
      "test 2785\n",
      "test shape: (87, 32, 96, 7) (87, 32, 96, 7)\n",
      "test shape: (2784, 96, 7) (2784, 96, 7)\n",
      "mse:0.4198439121246338, mae:0.4268854558467865\n",
      "rmse:0.6479536294937134, mape:0.7021352052688599, mspe:44613.7109375\n"
     ]
    }
   ],
   "source": [
    "model_name=\"LLMMixer\"\n",
    "\n",
    "seq_len=192\n",
    "e_layers=2\n",
    "down_sampling_layers=3\n",
    "down_sampling_window=2\n",
    "learning_rate=0.0001\n",
    "d_model=16\n",
    "d_ff=32\n",
    "train_epochs=4\n",
    "patience=10\n",
    "batch_size=32\n",
    "learning_rate=0.001\n",
    "pred_len=96\n",
    "\n",
    "!python -u run.py \\\n",
    "  --task_name long_term_forecast \\\n",
    "  --is_training 1 \\\n",
    "  --root_path  /home/kowsher/tabllm \\\n",
    "  --data_path ETTh1.csv \\\n",
    "  --model_id ETTh1_$seq_len'_'96 \\\n",
    "  --model $model_name \\\n",
    "  --data ETTh1 \\\n",
    "  --features M \\\n",
    "  --seq_len $seq_len \\\n",
    "  --label_len 0 \\\n",
    "  --pred_len $pred_len \\\n",
    "  --e_layers $e_layers \\\n",
    "  --enc_in 7 \\\n",
    "  --c_out 7 \\\n",
    "  --des 'Exp' \\\n",
    "  --itr 1 \\\n",
    "  --d_model $d_model \\\n",
    "  --d_ff $d_ff \\\n",
    "  --learning_rate $learning_rate \\\n",
    "  --train_epochs $train_epochs \\\n",
    "  --patience $patience \\\n",
    "  --batch_size $batch_size \\\n",
    "  --learning_rate $learning_rate \\\n",
    "  --down_sampling_layers $down_sampling_layers \\\n",
    "  --down_sampling_method avg \\\n",
    "  --down_sampling_window $down_sampling_window"
   ]
  },
  {
   "cell_type": "code",
   "execution_count": 2,
   "id": "a7ee7770-aa38-4255-b833-dea119fd7b49",
   "metadata": {},
   "outputs": [
    {
     "name": "stdout",
     "output_type": "stream",
     "text": [
      "Sun Nov 17 10:58:42 2024       \n",
      "+---------------------------------------------------------------------------------------+\n",
      "| NVIDIA-SMI 535.183.01             Driver Version: 535.183.01   CUDA Version: 12.2     |\n",
      "|-----------------------------------------+----------------------+----------------------+\n",
      "| GPU  Name                 Persistence-M | Bus-Id        Disp.A | Volatile Uncorr. ECC |\n",
      "| Fan  Temp   Perf          Pwr:Usage/Cap |         Memory-Usage | GPU-Util  Compute M. |\n",
      "|                                         |                      |               MIG M. |\n",
      "|=========================================+======================+======================|\n",
      "|   0  NVIDIA GeForce RTX 3090        Off | 00000000:01:00.0  On |                  N/A |\n",
      "| 53%   57C    P5              40W / 350W |    391MiB / 24576MiB |     22%      Default |\n",
      "|                                         |                      |                  N/A |\n",
      "+-----------------------------------------+----------------------+----------------------+\n",
      "                                                                                         \n",
      "+---------------------------------------------------------------------------------------+\n",
      "| Processes:                                                                            |\n",
      "|  GPU   GI   CI        PID   Type   Process name                            GPU Memory |\n",
      "|        ID   ID                                                             Usage      |\n",
      "|=======================================================================================|\n",
      "|    0   N/A  N/A      1449      G   /usr/lib/xorg/Xorg                          177MiB |\n",
      "|    0   N/A  N/A      2050      G   /usr/bin/gnome-shell                         77MiB |\n",
      "|    0   N/A  N/A      2597      G   ...ures=SpareRendererForSitePerProcess       20MiB |\n",
      "|    0   N/A  N/A      3710      G   ...seed-version=20241113-050113.727000      101MiB |\n",
      "+---------------------------------------------------------------------------------------+\n"
     ]
    }
   ],
   "source": [
    "!nvidia-smi"
   ]
  },
  {
   "cell_type": "code",
   "execution_count": null,
   "id": "45ce607f-ea60-46d1-af0e-b810a4599f35",
   "metadata": {},
   "outputs": [],
   "source": []
  }
 ],
 "metadata": {
  "kernelspec": {
   "display_name": "Python 3 (ipykernel)",
   "language": "python",
   "name": "python3"
  },
  "language_info": {
   "codemirror_mode": {
    "name": "ipython",
    "version": 3
   },
   "file_extension": ".py",
   "mimetype": "text/x-python",
   "name": "python",
   "nbconvert_exporter": "python",
   "pygments_lexer": "ipython3",
   "version": "3.10.12"
  }
 },
 "nbformat": 4,
 "nbformat_minor": 5
}
